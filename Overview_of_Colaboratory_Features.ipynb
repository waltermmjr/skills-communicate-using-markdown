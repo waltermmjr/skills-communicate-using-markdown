{
  "cells": [
    {
      "cell_type": "markdown",
      "metadata": {
        "id": "view-in-github",
        "colab_type": "text"
      },
      "source": [
        "<a href=\"https://colab.research.google.com/github/waltermmjr/skills-communicate-using-markdown/blob/main/Overview_of_Colaboratory_Features.ipynb\" target=\"_parent\"><img src=\"https://colab.research.google.com/assets/colab-badge.svg\" alt=\"Open In Colab\"/></a>"
      ]
    },
    {
      "cell_type": "code",
      "source": [
        "#exercicio 5 - cálculo da área do triângulo\n",
        "\n",
        "b = 9 #base do triângulo\n",
        "\n",
        "h = 6  #altura triângulo\n",
        "\n",
        "\n",
        "area = (b * h) / 2 #calcula a área do triângulo\n",
        "\n",
        "print(f'A área do triângulo de base {b} e altura {h} é {area}.') #exibe em tela a base, altura e área"
      ],
      "metadata": {
        "colab": {
          "base_uri": "https://localhost:8080/"
        },
        "id": "-rZwUe-g63HH",
        "outputId": "95126018-1902-4794-d497-e1fa418099e6"
      },
      "execution_count": null,
      "outputs": [
        {
          "output_type": "stream",
          "name": "stdout",
          "text": [
            "A área do triângulo de base 9 e altura 6 é 27.0.\n"
          ]
        }
      ]
    },
    {
      "cell_type": "code",
      "source": [
        "#exercicio 6 - cálculo da área do triângulo\n",
        "\n",
        "b = input('Digite a base do triângulo: ') #base do triângulo\n",
        "\n",
        "b = float(b)\n",
        "\n",
        "h = input('Digite a altura do triângulo: ') #altura triângulo\n",
        "\n",
        "h = float(h)\n",
        "\n",
        "area = (b * h) / 2 #calcula a área do triângulo\n",
        "\n",
        "print(f'A área do triângulo de base {b} e altura {h} é {area}.') #exibe em tela a base, altura e área"
      ],
      "metadata": {
        "colab": {
          "base_uri": "https://localhost:8080/"
        },
        "id": "gNcLn6SE9Wro",
        "outputId": "0fe450a9-a4ff-457a-bc3d-b1baaca8b8e7"
      },
      "execution_count": null,
      "outputs": [
        {
          "output_type": "stream",
          "name": "stdout",
          "text": [
            "Digite a base do triângulo: 9\n",
            "Digite a altura do triângulo: 6\n",
            "A área do triângulo de base 9.0 e altura 6.0 é 27.0.\n"
          ]
        }
      ]
    },
    {
      "cell_type": "code",
      "source": [
        "#exercicio 7 - cálculo salário bruto funcionário\n",
        "\n",
        "valor_hora_trabalhada = 14.25 #valor hora trabalhada\n",
        "\n",
        "valor_hora_extra = 2 * valor_hora_trabalhada #calcula valor hora extra\n",
        "\n",
        "hora_trabalhada = 163 #quantidade hora trabalhada\n",
        "\n",
        "hora_extra = 20 #quantidade hora extra\n",
        "\n",
        "#calcula salário Bruto (hora trabalhada paga dobrado)\n",
        "salario_bruto = hora_trabalhada * valor_hora_trabalhada + hora_extra * valor_hora_extra\n",
        "\n",
        "print(f'O salário bruto do funcionário é {salario_bruto}') #exibe salario bruto funcionário"
      ],
      "metadata": {
        "colab": {
          "base_uri": "https://localhost:8080/"
        },
        "id": "CGC0-yFD-dVJ",
        "outputId": "960c7c5e-6d5d-4e83-b7f9-4e2a0e4a50d2"
      },
      "execution_count": null,
      "outputs": [
        {
          "output_type": "stream",
          "name": "stdout",
          "text": [
            "O salário bruto do funcionário é 2892.75\n"
          ]
        }
      ]
    },
    {
      "cell_type": "code",
      "source": [
        "#exercicio 8 - cálculo expressões numéricas\n",
        "\n",
        "A = 4\n",
        "\n",
        "B = 5\n",
        "\n",
        "C = 1\n",
        "\n",
        "R = (A + B) / 2 #cálculo da expressão 8.a\n",
        "\n",
        "print(f'O valor de R é {R}') #exibe valor de R\n",
        "\n",
        "x = (-B + ((B ** 2 - 4 * A * C) ** 1/2)) / 2 * A #cálculo da expressão 8.b\n",
        "\n",
        "print(f'O valor de x é {x}') #exibe valor de x\n",
        "\n",
        "R = (3 * A + 2 * B) / (A + B) #cálculo da expressão 8.c\n",
        "\n",
        "print(f'O valor de R é {R}') #exibe valor de R\n",
        "\n",
        "Z= 7.6 * A - B ** 1.7 #cálculo da expressão 8.d\n",
        "\n",
        "print(f'O valor de Z é {Z}') #exibe valor de Z\n",
        "\n",
        "x1 = 1\n",
        "\n",
        "y1 = 1\n",
        "\n",
        "x2 = 4\n",
        "\n",
        "y2= 5\n",
        "\n",
        "d = ((x1 - x2)** 2 + y1 - y2 ** 2 )** (1/2) #cálculo da expressão 8.e\n",
        "\n",
        "print(f'O valor de d é {d}') #exibe valor de d\n"
      ],
      "metadata": {
        "id": "RIzrOZ8_BXBl"
      },
      "execution_count": null,
      "outputs": []
    },
    {
      "cell_type": "code",
      "source": [
        "#exercicio Escreva um programa que leia do teclado as coordenadas (x1, y1) do ponto 1\n",
        "#e (x2, y2) do ponto 2.Utilizando a expressão do item 8.e, determine a distância entre\n",
        "#esses dois pontose exiba-a na tela com três casas decimais. Teste-o com os dados\n",
        "#da tabelaa seguir.\n",
        "\n",
        "\n",
        "x1 = input('Digite o valor de x1 ') #coordenada x1\n",
        "\n",
        "x1 = float(x1) #converte str em float\n",
        "\n",
        "y1 = input('Digite o valor de y1 ') #coordenada y1\n",
        "\n",
        "y1 = float(y1) #converte str em float\n",
        "\n",
        "x2 = input('Digite o valor de x2 ') #coordenada x2\n",
        "\n",
        "x2 = float(x2) #converte str em float\n",
        "\n",
        "y2 = input('Digite o valor de y2 ') #coordenada y2\n",
        "\n",
        "y2 = float(y2) #converte str em float\n",
        "\n",
        "d = ((x2 - x1)** 2 + (y2 - y1)** 2 ) ** (1/2) #cálculo da expressão 8.e\n",
        "\n",
        "print(f'A distância entre os 2 pontos é {d}') #exibe valor de d\n",
        "\n",
        "print(f'A distância entre os 2 pontos é {round(d, 3)}') #exibe valor de d com 3 casas decimais\n"
      ],
      "metadata": {
        "id": "gcoiNgbeFKUW"
      },
      "execution_count": null,
      "outputs": []
    },
    {
      "cell_type": "code",
      "source": [
        "#exemplo 10 -\n",
        "\n",
        "#entrada de produto, quantidade vendida e valor unitário\n",
        "nome_item01 = input('Digite o nome do item 01: ')\n",
        "quantidade_item01 = input(f'Digite a quantidade vendida de {nome_item01}: ')\n",
        "valor_item01 = input(f'Digite o valor do {nome_item01}: ')\n",
        "\n",
        "nome_item02 = input('Digite o nome do item 02: ')\n",
        "quantidade_item02 = input(f'Digite a quantidade vendida de {nome_item02}: ')\n",
        "valor_item02 = input(f'Digite o valor do {nome_item02}: ')\n",
        "\n",
        "nome_item03 = input('Digite o nome do item 03: ')\n",
        "quantidade_item03 = input(f'Digite a quantidade vendida de {nome_item03}: ')\n",
        "valor_item03 = input(f'Digite o valor do {nome_item03}: ')\n",
        "\n",
        "#conferindo o tipo de dado de entrada\n",
        "print(type(nome_item01))\n",
        "print(type(quantidade_item01))\n",
        "print(type(valor_item01))\n",
        "\n",
        "#convertendo str em int\n",
        "quantidade_item01 = int(quantidade_item01)\n",
        "quantidade_item02 = int(quantidade_item02)\n",
        "quantidade_item03 = int(quantidade_item03)\n",
        "\n",
        "#convertendo str em float\n",
        "valor_item01 = float(valor_item01)\n",
        "valor_item02 = float(valor_item02)\n",
        "valor_item03 = float(valor_item03)\n",
        "\n",
        "#conferindo tipo das variáveis após conversão\n",
        "print(type(quantidade_item01))\n",
        "print(type(valor_item01))\n",
        "\n",
        "#vendo subtotal por produto\n",
        "subtotal_item01 = quantidade_item01 * valor_item01\n",
        "subtotal_item02 = quantidade_item02 * valor_item02\n",
        "subtotal_item03 = quantidade_item03 * valor_item03\n",
        "\n",
        "#exibindo os resultados\n",
        "print(f'Subtotal item 01: {subtotal_item01}')\n",
        "print(f'Subtotal item 02: {subtotal_item02}')\n",
        "print(f'Subtotal item 03: {subtotal_item03}')\n",
        "\n",
        "#cálculo do total das vendas (soma dos subitens)\n",
        "total_vendas = subtotal_item01 + subtotal_item02 + subtotal_item03\n",
        "\n",
        "#exibindo o valor total de vendas\n",
        "print(f'Valor Total de Vendas : {total_vendas}')"
      ],
      "metadata": {
        "id": "Z4pLq4edp8tL"
      },
      "execution_count": null,
      "outputs": []
    },
    {
      "cell_type": "code",
      "source": [
        "#estrutura condicional\n",
        "\n",
        "codigo = int(input('Digite o código da forma de pagamento: '))\n",
        "\n",
        "codigo = int(codigo)\n",
        "if codigo == 5112:\n",
        "    print('Pagamento à vista.')\n",
        "elif codigo == 5113:\n",
        "    print('Pagamento no cartão de crédito.')\n",
        "else:\n",
        "    print('Código inválido.')"
      ],
      "metadata": {
        "id": "2jIDOqWng3fc"
      },
      "execution_count": null,
      "outputs": []
    },
    {
      "cell_type": "code",
      "source": [
        "#estrutura de repetição while\n",
        "numero = 1\n",
        "while numero != 0:\n",
        "    numero = int(input('Digite um número para testar se é par ou ímpar: '))\n",
        "    if numero % 2 == 0:\n",
        "        print(f'O número {numero} é par.')\n",
        "    else:\n",
        "        print(f'O número {numero} é ímpar.')\n"
      ],
      "metadata": {
        "id": "vMHN5SyqdcH9"
      },
      "execution_count": null,
      "outputs": []
    },
    {
      "cell_type": "code",
      "source": [
        "#estrutura de repetição for\n",
        "nome = 'emanuel'\n",
        "for c in nome:\n",
        "    print(c)"
      ],
      "metadata": {
        "id": "hRDZHFVfg8tm"
      },
      "execution_count": null,
      "outputs": []
    },
    {
      "cell_type": "code",
      "source": [
        "#Função Enumerate()\n",
        "nome = 'guido'\n",
        "\n",
        "for i, c in enumerate(nome):\n",
        "\n",
        "    print(f'Posição = {i}, valor = {c}')"
      ],
      "metadata": {
        "id": "n-6s-hZMhw1I"
      },
      "execution_count": null,
      "outputs": []
    },
    {
      "cell_type": "code",
      "source": [
        "# Controle de repetição com range\n",
        "# Método 1\n",
        "for i in range(7):\n",
        "  print(i)\n",
        "print ('\\n')\n",
        "\n",
        "# Método 2\n",
        "for i in range(0, 5):\n",
        "  print(i)\n",
        "print ('\\n')\n",
        "\n",
        "#Método 3\n",
        "for i in range(0, 10, 2):\n",
        "  print(i)"
      ],
      "metadata": {
        "id": "bw87vL-sZCi7"
      },
      "execution_count": null,
      "outputs": []
    },
    {
      "cell_type": "code",
      "source": [
        "#exemplo de uso do break\n",
        "disciplina = 'Linguagem de programação'\n",
        "for c in disciplina:\n",
        "    if c == 'd':\n",
        "        break\n",
        "    else:\n",
        "      print(c)"
      ],
      "metadata": {
        "id": "oIds4raHfRyP",
        "outputId": "7f296872-61b8-40ef-ca29-52358a91f895",
        "colab": {
          "base_uri": "https://localhost:8080/"
        }
      },
      "execution_count": 32,
      "outputs": [
        {
          "output_type": "stream",
          "name": "stdout",
          "text": [
            "L\n",
            "i\n",
            "n\n",
            "g\n",
            "u\n",
            "a\n",
            "g\n",
            "e\n",
            "m\n",
            " \n"
          ]
        }
      ]
    }
  ],
  "metadata": {
    "colab": {
      "name": "Overview of Colaboratory Features",
      "provenance": [],
      "include_colab_link": true
    },
    "kernelspec": {
      "display_name": "Python 3",
      "name": "python3"
    }
  },
  "nbformat": 4,
  "nbformat_minor": 0
}