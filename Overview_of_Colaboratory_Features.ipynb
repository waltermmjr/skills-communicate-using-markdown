{
  "cells": [
    {
      "cell_type": "markdown",
      "metadata": {
        "id": "view-in-github",
        "colab_type": "text"
      },
      "source": [
        "<a href=\"https://colab.research.google.com/github/waltermmjr/skills-communicate-using-markdown/blob/main/Overview_of_Colaboratory_Features.ipynb\" target=\"_parent\"><img src=\"https://colab.research.google.com/assets/colab-badge.svg\" alt=\"Open In Colab\"/></a>"
      ]
    },
    {
      "cell_type": "code",
      "source": [
        "#exercicio 5 - cálculo da área do triângulo\n",
        "\n",
        "b = 9 #base do triângulo\n",
        "\n",
        "h = 6  #altura triângulo\n",
        "\n",
        "\n",
        "area = (b * h) / 2 #calcula a área do triângulo\n",
        "\n",
        "print(f'A área do triângulo de base {b} e altura {h} é {area}.') #exibe em tela a base, altura e área"
      ],
      "metadata": {
        "colab": {
          "base_uri": "https://localhost:8080/"
        },
        "id": "-rZwUe-g63HH",
        "outputId": "95126018-1902-4794-d497-e1fa418099e6"
      },
      "execution_count": null,
      "outputs": [
        {
          "output_type": "stream",
          "name": "stdout",
          "text": [
            "A área do triângulo de base 9 e altura 6 é 27.0.\n"
          ]
        }
      ]
    },
    {
      "cell_type": "code",
      "source": [
        "#exercicio 6 - cálculo da área do triângulo\n",
        "\n",
        "b = input('Digite a base do triângulo: ') #base do triângulo\n",
        "\n",
        "b = float(b)\n",
        "\n",
        "h = input('Digite a altura do triângulo: ') #altura triângulo\n",
        "\n",
        "h = float(h)\n",
        "\n",
        "area = (b * h) / 2 #calcula a área do triângulo\n",
        "\n",
        "print(f'A área do triângulo de base {b} e altura {h} é {area}.') #exibe em tela a base, altura e área"
      ],
      "metadata": {
        "colab": {
          "base_uri": "https://localhost:8080/"
        },
        "id": "gNcLn6SE9Wro",
        "outputId": "0fe450a9-a4ff-457a-bc3d-b1baaca8b8e7"
      },
      "execution_count": null,
      "outputs": [
        {
          "output_type": "stream",
          "name": "stdout",
          "text": [
            "Digite a base do triângulo: 9\n",
            "Digite a altura do triângulo: 6\n",
            "A área do triângulo de base 9.0 e altura 6.0 é 27.0.\n"
          ]
        }
      ]
    },
    {
      "cell_type": "code",
      "source": [
        "#exercicio 7 - cálculo salário bruto funcionário\n",
        "\n",
        "valor_hora_trabalhada = 14.25 #valor hora trabalhada\n",
        "\n",
        "valor_hora_extra = 2 * valor_hora_trabalhada #calcula valor hora extra\n",
        "\n",
        "hora_trabalhada = 163 #quantidade hora trabalhada\n",
        "\n",
        "hora_extra = 20 #quantidade hora extra\n",
        "\n",
        "#calcula salário Bruto (hora trabalhada paga dobrado)\n",
        "salario_bruto = hora_trabalhada * valor_hora_trabalhada + hora_extra * valor_hora_extra\n",
        "\n",
        "print(f'O salário bruto do funcionário é {salario_bruto}') #exibe salario bruto funcionário"
      ],
      "metadata": {
        "colab": {
          "base_uri": "https://localhost:8080/"
        },
        "id": "CGC0-yFD-dVJ",
        "outputId": "960c7c5e-6d5d-4e83-b7f9-4e2a0e4a50d2"
      },
      "execution_count": null,
      "outputs": [
        {
          "output_type": "stream",
          "name": "stdout",
          "text": [
            "O salário bruto do funcionário é 2892.75\n"
          ]
        }
      ]
    },
    {
      "cell_type": "code",
      "source": [
        "#exercicio 8 - cálculo expressões numéricas\n",
        "\n",
        "A = 4\n",
        "\n",
        "B = 5\n",
        "\n",
        "C = 1\n",
        "\n",
        "R = (A + B) / 2 #cálculo da expressão 8.a\n",
        "\n",
        "print(f'O valor de R é {R}') #exibe valor de R\n",
        "\n",
        "x = (-B + ((B ** 2 - 4 * A * C) ** 1/2)) / 2 * A #cálculo da expressão 8.b\n",
        "\n",
        "print(f'O valor de x é {x}') #exibe valor de x\n",
        "\n",
        "R = (3 * A + 2 * B) / (A + B) #cálculo da expressão 8.c\n",
        "\n",
        "print(f'O valor de R é {R}') #exibe valor de R\n",
        "\n",
        "Z= 7.6 * A - B ** 1.7 #cálculo da expressão 8.d\n",
        "\n",
        "print(f'O valor de Z é {Z}') #exibe valor de Z\n",
        "\n",
        "x1 = 1\n",
        "\n",
        "y1 = 1\n",
        "\n",
        "x2 = 4\n",
        "\n",
        "y2= 5\n",
        "\n",
        "d = ((x1 - x2)** 2 + y1 - y2 ** 2 )** (1/2) #cálculo da expressão 8.e\n",
        "\n",
        "print(f'O valor de d é {d}') #exibe valor de d\n"
      ],
      "metadata": {
        "id": "RIzrOZ8_BXBl"
      },
      "execution_count": null,
      "outputs": []
    },
    {
      "cell_type": "code",
      "source": [
        "#exercicio Escreva um programa que leia do teclado as coordenadas (x1, y1) do ponto 1\n",
        "#e (x2, y2) do ponto 2.Utilizando a expressão do item 8.e, determine a distância entre\n",
        "#esses dois pontose exiba-a na tela com três casas decimais. Teste-o com os dados\n",
        "#da tabelaa seguir.\n",
        "\n",
        "\n",
        "x1 = input('Digite o valor de x1 ') #coordenada x1\n",
        "\n",
        "x1 = float(x1) #converte str em float\n",
        "\n",
        "y1 = input('Digite o valor de y1 ') #coordenada y1\n",
        "\n",
        "y1 = float(y1) #converte str em float\n",
        "\n",
        "x2 = input('Digite o valor de x2 ') #coordenada x2\n",
        "\n",
        "x2 = float(x2) #converte str em float\n",
        "\n",
        "y2 = input('Digite o valor de y2 ') #coordenada y2\n",
        "\n",
        "y2 = float(y2) #converte str em float\n",
        "\n",
        "d = ((x2 - x1)** 2 + (y2 - y1)** 2 ) ** (1/2) #cálculo da expressão 8.e\n",
        "\n",
        "print(f'A distância entre os 2 pontos é {d}') #exibe valor de d\n",
        "\n",
        "print(f'A distância entre os 2 pontos é {round(d, 3)}') #exibe valor de d com 3 casas decimais\n"
      ],
      "metadata": {
        "id": "gcoiNgbeFKUW"
      },
      "execution_count": null,
      "outputs": []
    },
    {
      "cell_type": "code",
      "source": [
        "#exemplo 10 -\n",
        "\n",
        "#entrada de produto, quantidade vendida e valor unitário\n",
        "nome_item01 = input('Digite o nome do item 01: ')\n",
        "quantidade_item01 = input(f'Digite a quantidade vendida de {nome_item01}: ')\n",
        "valor_item01 = input(f'Digite o valor do {nome_item01}: ')\n",
        "\n",
        "nome_item02 = input('Digite o nome do item 02: ')\n",
        "quantidade_item02 = input(f'Digite a quantidade vendida de {nome_item02}: ')\n",
        "valor_item02 = input(f'Digite o valor do {nome_item02}: ')\n",
        "\n",
        "nome_item03 = input('Digite o nome do item 03: ')\n",
        "quantidade_item03 = input(f'Digite a quantidade vendida de {nome_item03}: ')\n",
        "valor_item03 = input(f'Digite o valor do {nome_item03}: ')\n",
        "\n",
        "#conferindo o tipo de dado de entrada\n",
        "print(type(nome_item01))\n",
        "print(type(quantidade_item01))\n",
        "print(type(valor_item01))\n",
        "\n",
        "#convertendo str em int\n",
        "quantidade_item01 = int(quantidade_item01)\n",
        "quantidade_item02 = int(quantidade_item02)\n",
        "quantidade_item03 = int(quantidade_item03)\n",
        "\n",
        "#convertendo str em float\n",
        "valor_item01 = float(valor_item01)\n",
        "valor_item02 = float(valor_item02)\n",
        "valor_item03 = float(valor_item03)\n",
        "\n",
        "#conferindo tipo das variáveis após conversão\n",
        "print(type(quantidade_item01))\n",
        "print(type(valor_item01))\n",
        "\n",
        "#vendo subtotal por produto\n",
        "subtotal_item01 = quantidade_item01 * valor_item01\n",
        "subtotal_item02 = quantidade_item02 * valor_item02\n",
        "subtotal_item03 = quantidade_item03 * valor_item03\n",
        "\n",
        "#exibindo os resultados\n",
        "print(f'Subtotal item 01: {subtotal_item01}')\n",
        "print(f'Subtotal item 02: {subtotal_item02}')\n",
        "print(f'Subtotal item 03: {subtotal_item03}')\n",
        "\n",
        "#cálculo do total das vendas (soma dos subitens)\n",
        "total_vendas = subtotal_item01 + subtotal_item02 + subtotal_item03\n",
        "\n",
        "#exibindo o valor total de vendas\n",
        "print(f'Valor Total de Vendas : {total_vendas}')"
      ],
      "metadata": {
        "id": "Z4pLq4edp8tL"
      },
      "execution_count": null,
      "outputs": []
    },
    {
      "cell_type": "code",
      "source": [
        "#estrutura condicional\n",
        "\n",
        "codigo = int(input('Digite o código da forma de pagamento: '))\n",
        "\n",
        "codigo = int(codigo)\n",
        "if codigo == 5112:\n",
        "    print('Pagamento à vista.')\n",
        "elif codigo == 5113:\n",
        "    print('Pagamento no cartão de crédito.')\n",
        "else:\n",
        "    print('Código inválido.')"
      ],
      "metadata": {
        "id": "2jIDOqWng3fc"
      },
      "execution_count": null,
      "outputs": []
    },
    {
      "cell_type": "code",
      "source": [
        "#estrutura de repetição while\n",
        "numero = 1\n",
        "while numero != 0:\n",
        "    numero = int(input('Digite um número para testar se é par ou ímpar: '))\n",
        "    if numero % 2 == 0:\n",
        "        print(f'O número {numero} é par.')\n",
        "    else:\n",
        "        print(f'O número {numero} é ímpar.')\n"
      ],
      "metadata": {
        "id": "vMHN5SyqdcH9"
      },
      "execution_count": null,
      "outputs": []
    },
    {
      "cell_type": "code",
      "source": [
        "#estrutura de repetição for\n",
        "nome = 'emanuel'\n",
        "for c in nome:\n",
        "    print(c)"
      ],
      "metadata": {
        "id": "hRDZHFVfg8tm"
      },
      "execution_count": null,
      "outputs": []
    },
    {
      "cell_type": "code",
      "source": [
        "#Função Enumerate()\n",
        "nome = 'guido'\n",
        "\n",
        "for i, c in enumerate(nome):\n",
        "\n",
        "    print(f'Posição = {i}, valor = {c}')"
      ],
      "metadata": {
        "id": "n-6s-hZMhw1I"
      },
      "execution_count": null,
      "outputs": []
    },
    {
      "cell_type": "code",
      "source": [
        "# Controle de repetição com range\n",
        "# Método 1\n",
        "for i in range(7):\n",
        "  print(i)\n",
        "print ('\\n')\n",
        "\n",
        "# Método 2\n",
        "for i in range(0, 5):\n",
        "  print(i)\n",
        "print ('\\n')\n",
        "\n",
        "#Método 3\n",
        "for i in range(0, 10, 2):\n",
        "  print(i)"
      ],
      "metadata": {
        "id": "bw87vL-sZCi7"
      },
      "execution_count": null,
      "outputs": []
    },
    {
      "cell_type": "code",
      "source": [
        "#exemplo de uso do break e continue\n",
        "disciplina = 'Linguagem de programação'\n",
        "for c in disciplina:\n",
        "    if c == 'd':\n",
        "        break\n",
        "    else:\n",
        "      print(c)\n",
        "\n",
        "for c in disciplina:\n",
        "    if c == 'a':\n",
        "        continue\n",
        "    else:\n",
        "      print(c)"
      ],
      "metadata": {
        "id": "oIds4raHfRyP"
      },
      "execution_count": null,
      "outputs": []
    },
    {
      "cell_type": "code",
      "source": [
        "#Vamos brincar um pouco com o que aprendemos. Vamos criar uma solução\n",
        "#que procura pelas vogais \"a\", \"e\" em um texto (somente minúsculas).\n",
        "#Toda vez que essas vogais são encontradas, devemos informar que\n",
        "#encontramos e qual posição do texto ela está\n",
        "\n",
        "texto = \"\"\"\n",
        "A inserção de comentários no código do programa é uma prática normal.\n",
        "Em função disso, toda linguagem de programação tem alguma maneira de permitir que\n",
        "comentários sejam inseridos nos programas. O objetivo é adicionar descrições em\n",
        "partes do código, seja para documentá-lo ou para adicionar uma descrição do\n",
        "algoritmo implementado (BANIN, 2018, p. 45).\"\n",
        "\"\"\"\n",
        "contador_a = 0\n",
        "contador_e = 0\n",
        "\n",
        "for i, c in enumerate(texto):\n",
        "  if c == 'a' or c == 'e':\n",
        "    print(f\"Vogal '{c}' encontrata, na Posição = {i}\")\n",
        "    if c == 'a':\n",
        "      contador_a += 1\n",
        "    elif c == 'e':\n",
        "      contador_e += 1\n",
        "\n",
        "print(f\"A vogal 'a' foi encontrata {contador_a} vezes.\")\n",
        "print(f\"A vogal 'e' foi encontrata {contador_e} vezes.\")"
      ],
      "metadata": {
        "id": "PzZxrOHalZSI"
      },
      "execution_count": null,
      "outputs": []
    },
    {
      "cell_type": "code",
      "source": [
        "#desafio\n",
        "#calcular o imposto de renda a ser deduzido do salário dos colaboradores.\n",
        "#o programa deve solicitar o salário do colaborador e então, informar qual o\n",
        "#valor do imposto que será deduzido do salário.\n",
        "#Base de Cálculo\t                Alíquota\t      Parcela a deduzir do IR\n",
        "#até 1.903,98                     -               R$ 3-\n",
        "#De R$ 1.903,98 até R$ 2.826,65\t  7,5%\t          R$ 142,80\n",
        "#De R$ 2.826,66 até R$ 3.751,05\t  15%\t            R$ 354,80\n",
        "#De R$ 3.751,06 até R$ 4.664,68\t  22,5%\t          R$ 636,13\n",
        "#Acima de R$ 4.664,68\t            27,5%\t          R$ 869,36\n",
        "\n",
        "salario = 1\n",
        "\n",
        "#adicionando recursividade\n",
        "while salario != 0 :\n",
        "  salario = float(input(\"Digite o salário do colaborador ou '0' para sair \"))\n",
        "\n",
        "  #teste para verificar em qual faixa de dedução o salário se encaixa\n",
        "  if salario <= 1903.98:\n",
        "    valor_deduzido = 0\n",
        "  elif salario <= 2826.65:\n",
        "    valor_deduzido = 142.80\n",
        "  elif salario <= 3751.05:\n",
        "    valor_deduzido = 354.80\n",
        "  elif salario <= 4664.68:\n",
        "    valor_deduzido = 636.13\n",
        "  else:\n",
        "    valor_deduzido = 869.36\n",
        "\n",
        "\n",
        "  #exibe valor deduzido\n",
        "  if salario != 0:\n",
        "    print(f\"O valor deduzido do salário é de R$ {valor_deduzido}\")\n",
        "    print(f\"Salário a receber R${salario - valor_deduzido}\")"
      ],
      "metadata": {
        "id": "YDOcSiJcmB97"
      },
      "execution_count": null,
      "outputs": []
    },
    {
      "cell_type": "code",
      "source": [
        "a = 2\n",
        "b = 1\n",
        "c = 2\n",
        "\n",
        "equacao = input(\"Digite a fórmula geral da equação linear (a * x + b): \")\n",
        "print(f\"\\nA entrada do usuário {equacao} é do tipo {type(equacao)}.\")\n",
        "\n",
        "for x in range(5):\n",
        "    y = eval(equacao)\n",
        "    print(f\"\\nResultado da equação para x = {x} é {y}\")"
      ],
      "metadata": {
        "id": "V2MMa7h_7k-D"
      },
      "execution_count": null,
      "outputs": []
    },
    {
      "cell_type": "code",
      "source": [
        "#funções\n",
        "def imprimir_mensagem(disciplina, curso):\n",
        "    return f\"Minha primeira função em Python desenvolvida na disciplina: {disciplina}, do curso: {curso}.\"\n",
        "\n",
        "mensagem = imprimir_mensagem(\"Python\", \"ADS\")\n",
        "print(mensagem)"
      ],
      "metadata": {
        "id": "TSHq4jpskCkB",
        "outputId": "54bbe4a0-837c-4e25-9d0d-5477c168d5eb",
        "colab": {
          "base_uri": "https://localhost:8080/"
        }
      },
      "execution_count": null,
      "outputs": [
        {
          "output_type": "stream",
          "name": "stdout",
          "text": [
            "Minha primeira função em Python desenvolvida na disciplina: Python, do curso: ADS.\n"
          ]
        }
      ]
    },
    {
      "cell_type": "code",
      "source": [
        "#exemplo função\n",
        "# Vamos implementar uma função que recebe uma data no formato dd/mm/aaaa e converte\n",
        "# o mês para extenso. Então, ao se receber a data 10/05/2020, a função deverá\n",
        "# retornar: 10 de maio de 2020.\n",
        "\n",
        "def converter_mes_para_extenso(data):\n",
        "    mes = '''janeiro fevereiro março abril maio junho julho agosto setembro\n",
        "    outubro novembro dezembro'''.split()  #divide lista a cada espaço\n",
        "    d, m, a = data.split('/')             #divide a data a cada '/'\n",
        "    mes_extenso = mes[int(m) - 1]         #o mês 01 está na posição 0\n",
        "    return f'{d} de {mes_extenso} de {a}.'\n",
        "\n",
        "print(converter_mes_para_extenso('16/07/1985'))"
      ],
      "metadata": {
        "id": "lTcfz_lbn3qU",
        "outputId": "59e8ae11-32a5-45e3-d764-f7829c2dd76c",
        "colab": {
          "base_uri": "https://localhost:8080/"
        }
      },
      "execution_count": null,
      "outputs": [
        {
          "output_type": "stream",
          "name": "stdout",
          "text": [
            "16 de julho de 1985.\n"
          ]
        }
      ]
    },
    {
      "cell_type": "code",
      "source": [
        "# Funções com parâmetros definidos e indefinidos\n",
        "# 1)Parâmetro posicional, obrigatório, sem valor default (padrão).\n",
        "def somar(a, b):\n",
        "    return a + b\n",
        "\n",
        "r = somar(2,3)\n",
        "print(r)\n",
        "\n",
        "# 2)Parâmetro posicional, obrigatório, com valor default (padrão).\n",
        "def calcular_desconto(valor, desconto=0): # O parâmetro desconto possui zero valor default\n",
        "    valor_com_desconto = valor - (valor * desconto)\n",
        "    return valor_com_desconto\n",
        "\n",
        "valor1 = calcular_desconto(100)           # Não aplicar nenhum desconto\n",
        "valor2 = calcular_desconto(100, 0.25)     # Aplicar desconto de 25%\n",
        "\n",
        "print(f\"\\nPrimeiro valor a ser pago = {valor1}\")\n",
        "print(f\"\\nSegundo valor a ser pago = {valor2}\")\n",
        "\n",
        "# 3)Parâmetro nominal, obrigatório, sem valor default (padrão).\n",
        "def cadastrar_pessoa(nome, idade, cidade):\n",
        "    print(\"\\nDados a serem cadastrados:\")\n",
        "    print(f\"Nome: {nome}\")\n",
        "    print(f\"Idade: {idade}\")\n",
        "    print(f\"Cidade: {cidade}\")\n",
        "\n",
        "cadastrar_pessoa(\"João\", 23, \"São Paulo\")\n",
        "cadastrar_pessoa(\"São Paulo\", \"João\", 23)\n",
        "\n",
        "# 4)Parâmetro nominal, obrigatório, com valor default (padrão).\n",
        "# O parâmetro flag_minuscula possui True como valor default\n",
        "def converter_minuscula(texto, flag_minuscula=True):\n",
        "    if flag_minuscula:\n",
        "        return texto.lower()\n",
        "    else:\n",
        "        return texto.upper()\n",
        "\n",
        "texto1 = converter_minuscula(flag_minuscula=True, texto=\"LINGUAGEM de Programação\")\n",
        "texto2 = converter_minuscula(texto=\"LINGUAGEM de Programação\")\n",
        "\n",
        "print(f\"\\nTexto 1 = {texto1}\")\n",
        "print(f\"\\nTexto 2 = {texto2}\")\n",
        "\n",
        "# 5)Parâmetro posicional e não obrigatório (args).\n",
        "def imprimir_parametros(*args):\n",
        "    qtde_parametros = len(args)\n",
        "    print(f\"Quantidade de parâmetros = {qtde_parametros}\")\n",
        "\n",
        "    for i, valor in enumerate(args):\n",
        "        print(f\"Posição = {i}, valor = {valor}\")\n",
        "\n",
        "\n",
        "print(\"\\nChamada 1\")\n",
        "imprimir_parametros(\"São Paulo\", 10, 23.78, \"João\")\n",
        "\n",
        "print(\"\\nChamada 2\")\n",
        "imprimir_parametros(10, \"São Paulo\")\n",
        "\n",
        "# 6)Parâmetro nominal e não obrigatório (kwargs)\n",
        "def imprimir_parametros(**kwargs):\n",
        "    print(f\"Tipo de objeto recebido = {type(kwargs)}\\n\")\n",
        "    qtde_parametros = len(kwargs)\n",
        "    print(f\"Quantidade de parâmetros = {qtde_parametros}\")\n",
        "\n",
        "    for chave, valor in kwargs.items():\n",
        "        print(f\"variável = {chave}, valor = {valor}\")\n",
        "\n",
        "\n",
        "print(\"\\nChamada 1\")\n",
        "imprimir_parametros(cidade=\"São Paulo\", idade=33, nome=\"João\")\n",
        "\n",
        "print(\"\\nChamada 2\")\n",
        "imprimir_parametros(desconto=10, valor=100)"
      ],
      "metadata": {
        "id": "syf9L7C1y5cd"
      },
      "execution_count": null,
      "outputs": []
    },
    {
      "cell_type": "code",
      "source": [
        "# Funções anônimas em Python\n",
        "#  Expressões lambda (às vezes chamadas de formas lambda)\n",
        "#   são usadas para criar funções anônimas\n",
        "# Esse tipo de construção é útil, quando a função\n",
        "# faz somente uma ação e é usada uma única vez.\n",
        "(lambda x: x + 1)(x=3)          #apenas um parametro\n",
        "\n",
        "(lambda x, y: x + y)(x=3, y=2)  #dois parametros\n",
        "\n",
        "somar = lambda x, y: x + y      #atribuir a uma variável uma função anônima\n",
        "somar(x=5, y=3)\n"
      ],
      "metadata": {
        "id": "YZmHoz4cA_6f"
      },
      "execution_count": null,
      "outputs": []
    },
    {
      "cell_type": "code",
      "source": [
        "# O valor do produto (obrigatório).\n",
        "# A quantidade do produto (obrigatório).\n",
        "# A moeda em que deve ser feito o cálculo (obrigatório, sendo padrão o real).\n",
        "# A porcentagem do desconto que será concedida na compra (opcional).\n",
        "# A porcentagem de acréscimo, que depende da forma de pagamento (opcional).\n",
        "# Uma conta não pode ter desconto e acréscimo ao mesmo tempo.\n",
        "# o valor do dólar em R$ 5,00 e do euro 5,70\n",
        "# o sistema seja capaz de receber valores em reais, dolár ou euro, e que seja\n",
        "# feita a conversão para o valor em reais\n",
        "\n",
        "def converte_real (valor_a_pagar,moeda_entrada):  #realiza conversão moeda\n",
        "    if moeda_entrada == 'real':\n",
        "        valor_a_pagar = valor_a_pagar\n",
        "    elif moeda_entrada == 'dolar':\n",
        "        valor_a_pagar = valor_a_pagar * 5.0\n",
        "    elif moeda_entrada == 'euro':\n",
        "        valor_a_pagar = valor_a_pagar * 5.7\n",
        "    else:\n",
        "        print('Moeda Inválida')\n",
        "    return valor_a_pagar\n",
        "\n",
        "def calcular_desconto (valor_a_pagar):        #calcula desconto\n",
        "    valor_a_pagar = valor_a_pagar * 0.9\n",
        "    return valor_a_pagar\n",
        "\n",
        "def calcular_acrescimo (valor_a_pagar):       #calcula acrescimo\n",
        "    valor_a_pagar = valor_a_pagar * 1.1\n",
        "    return valor_a_pagar\n",
        "\n",
        "\n",
        "moeda_entrada = input('Digite a moeda de entrada(real,dolar ou euro): ')\n",
        "valor_produto = float (input ('Digite o valor do produto '))\n",
        "quantidade_produto = float (input ('Digite a quantidade do produto '))\n",
        "valor_a_pagar = valor_produto * quantidade_produto\n",
        "\n",
        "valor_a_pagar = converte_real(valor_a_pagar,moeda_entrada)\n",
        "\n",
        "forma_pagamento = int(input('Digite a forma de pagamento (1-à vista 2-vencimento ou 3-parcelado): '))\n",
        "if forma_pagamento == 1:\n",
        "    valor_a_pagar = calcular_desconto(valor_a_pagar)\n",
        "elif forma_pagamento == 3:\n",
        "    valor_a_pagar = calcular_acrescimo(valor_a_pagar)\n",
        "else:\n",
        "    valor_a_pagar = valor_a_pagar\n",
        "\n",
        "\n",
        "print(f'O valor do produto é R$ {valor_a_pagar}')\n"
      ],
      "metadata": {
        "id": "uFvdgstzFc_Q"
      },
      "execution_count": null,
      "outputs": []
    }
  ],
  "metadata": {
    "colab": {
      "name": "Overview of Colaboratory Features",
      "provenance": [],
      "include_colab_link": true
    },
    "kernelspec": {
      "display_name": "Python 3",
      "name": "python3"
    }
  },
  "nbformat": 4,
  "nbformat_minor": 0
}